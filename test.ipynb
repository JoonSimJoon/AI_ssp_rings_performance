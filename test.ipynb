{
 "cells": [
  {
   "cell_type": "code",
   "execution_count": 6,
   "metadata": {},
   "outputs": [
    {
     "name": "stdout",
     "output_type": "stream",
     "text": [
      "Length: 0.55\n",
      "Diameter: 0.43\n",
      "Height: 0.14\n",
      "Whole weight: 0.84\n",
      "Shucked weight: 0.32\n",
      "Viscera weight: 0.19\n",
      "Shell weight: 0.5\n",
      "INFO:tensorflow:Restoring parameters from saved.cpkt\n",
      "[9.882669]\n"
     ]
    }
   ],
   "source": [
    "#import tensorflow as tf\n",
    "import tensorflow.compat.v1 as tf\n",
    "tf.disable_v2_behavior() \n",
    "import numpy as np\n",
    "\n",
    "X = tf.placeholder(tf.float32, shape=[None, 7])\n",
    "Y = tf.placeholder(tf.float32, shape=[None, 1])\n",
    "\n",
    "\n",
    "W = tf.Variable(tf.random_normal([7, 1]), name=\"weight\")\n",
    "b = tf.Variable(tf.random_normal([1]), name=\"bias\")\n",
    "\n",
    "hypothesis = tf.matmul(X, W) + b\n",
    "\n",
    "\n",
    "saver = tf.train.Saver()\n",
    "model = tf.global_variables_initializer()\n",
    "\n",
    "\n",
    "length = float(input('Length: '))\n",
    "diameter = float(input('Diameter: '))\n",
    "height = float(input('Height: '))\n",
    "whole = float(input('Whole weight: '))\n",
    "shucked = float(input('Shucked weight: '))\n",
    "viscera = float(input('Viscera weight: '))\n",
    "shell = float(input('Shell weight: '))\n",
    "\n",
    "\n",
    "with tf.Session() as sess:\n",
    "    sess.run(model)\n",
    "    save_path = \"saved.cpkt\"\n",
    "    saver.restore(sess, save_path)\n",
    "    data = ((length, diameter, height, whole, shucked, viscera, shell), )\n",
    "    arr = np.array(data, dtype=np.float32)\n",
    "\n",
    "    x_data = arr[:]\n",
    "    dict = sess.run(hypothesis, feed_dict={X: x_data})\n",
    "\n",
    "    print(dict[0])"
   ]
  },
  {
   "cell_type": "code",
   "execution_count": null,
   "metadata": {},
   "outputs": [],
   "source": []
  }
 ],
 "metadata": {
  "kernelspec": {
   "display_name": "Python 3",
   "language": "python",
   "name": "python3"
  },
  "language_info": {
   "codemirror_mode": {
    "name": "ipython",
    "version": 3
   },
   "file_extension": ".py",
   "mimetype": "text/x-python",
   "name": "python",
   "nbconvert_exporter": "python",
   "pygments_lexer": "ipython3",
   "version": "3.7.7"
  }
 },
 "nbformat": 4,
 "nbformat_minor": 4
}
